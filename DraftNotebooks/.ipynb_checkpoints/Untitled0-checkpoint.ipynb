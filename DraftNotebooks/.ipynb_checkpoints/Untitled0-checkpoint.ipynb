{
 "metadata": {
  "name": "",
  "signature": "sha256:180f72fdd28b6fd1d9bf01e43c2513d075e6066d17c9bf4d45ba452b9aa0de6d"
 },
 "nbformat": 3,
 "nbformat_minor": 0,
 "worksheets": []
}