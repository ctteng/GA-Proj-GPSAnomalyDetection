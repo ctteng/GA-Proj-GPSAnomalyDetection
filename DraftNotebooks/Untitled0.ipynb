{
 "metadata": {
  "name": "",
  "signature": "sha256:774eb937072031a1a9b074569036fd625c64d7f95f1d26e0bb0fd595f79339bf"
 },
 "nbformat": 3,
 "nbformat_minor": 0,
 "worksheets": [
  {
   "cells": [
    {
     "cell_type": "code",
     "collapsed": false,
     "input": [
      "from IPython.html import widgets # widget definitions\n",
      "from IPython.display import display\n",
      "w = widgets.IntSliderWidget()\n",
      "display(w)"
     ],
     "language": "python",
     "metadata": {},
     "outputs": [],
     "prompt_number": 1
    },
    {
     "cell_type": "code",
     "collapsed": false,
     "input": [
      "ac = widgets.AccordionWidget()\n",
      "display(ac)"
     ],
     "language": "python",
     "metadata": {},
     "outputs": [],
     "prompt_number": 2
    },
    {
     "cell_type": "code",
     "collapsed": false,
     "input": [
      "tb = widgets.ToggleButtonWidget()\n",
      "display(tb)"
     ],
     "language": "python",
     "metadata": {},
     "outputs": [],
     "prompt_number": 3
    },
    {
     "cell_type": "code",
     "collapsed": false,
     "input": [
      "can = widgets.C"
     ],
     "language": "python",
     "metadata": {},
     "outputs": []
    }
   ],
   "metadata": {}
  }
 ]
}